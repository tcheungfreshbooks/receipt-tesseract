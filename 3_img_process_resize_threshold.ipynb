{
 "cells": [
  {
   "cell_type": "code",
   "execution_count": null,
   "metadata": {},
   "outputs": [],
   "source": [
    "import cv2\n",
    "import numpy as np\n",
    "import csv\n",
    "import os"
   ]
  },
  {
   "cell_type": "code",
   "execution_count": null,
   "metadata": {},
   "outputs": [],
   "source": [
    "def img_resize(inputImage):\n",
    "    (H, W) = inputImage.shape[:2]\n",
    "    orig_rH = H/W\n",
    "    default = 1500\n",
    "    \n",
    "    if H >= W:\n",
    "        (newW, newH) = (int(round(default * W/H)), default)\n",
    "    \n",
    "    if H < W:\n",
    "        (newW, newH) = (default, int(round(default * H/W)))\n",
    "\n",
    "    # resize the image and grab the new image dimensions\n",
    "    img = cv2.resize(inputImage, (newW, newH))\n",
    "    return img"
   ]
  },
  {
   "cell_type": "code",
   "execution_count": null,
   "metadata": {},
   "outputs": [],
   "source": [
    "def img_thresh(inputImage):\n",
    "\n",
    "    img_blur = cv2.medianBlur(inputImage,3)\n",
    "\n",
    "    thresh_gauss = cv2.adaptiveThreshold(img_blur,255,cv2.ADAPTIVE_THRESH_GAUSSIAN_C,\\\n",
    "                cv2.THRESH_BINARY,11,4)\n",
    "    \n",
    "    return thresh_gauss"
   ]
  },
  {
   "cell_type": "code",
   "execution_count": null,
   "metadata": {},
   "outputs": [],
   "source": [
    "with open(\"attachments_amount_jwt_output.csv\") as f:\n",
    "    reader = csv.DictReader(f)\n",
    "    receipt_list = list(reader)"
   ]
  },
  {
   "cell_type": "code",
   "execution_count": null,
   "metadata": {},
   "outputs": [],
   "source": [
    "for i in range(len(receipt_list)):\n",
    "    if receipt_list[i]['filetype'] in ['jpeg','png']:\n",
    "        # load the input image and grab the image dimensions\n",
    "        if receipt_list[i]['filetype'] in ['png']:\n",
    "            img = cv2.imread(os.path.join(\n",
    "                'images_unshadow', \n",
    "                receipt_list[i]['filename'] + '.' + 'png'),0)\n",
    "        \n",
    "        if receipt_list[i]['filetype'] in ['jpeg']:\n",
    "            img = cv2.imread(os.path.join(\n",
    "                'images_unshadow', \n",
    "                receipt_list[i]['filename'] + '.' + 'jpg'),0)\n",
    "        \n",
    "        img_resized = img_resize(img)\n",
    "        img_threshed = img_thresh(img_resized)\n",
    "\n",
    "        if receipt_list[i]['filetype'] in ['png']:\n",
    "            cv2.imwrite(os.path.join(\n",
    "                'images_thresh',\n",
    "                receipt_list[i]['filename'] + '.' + 'png'), img_threshed)  \n",
    "        \n",
    "        if receipt_list[i]['filetype'] in ['jpeg']:\n",
    "            cv2.imwrite(os.path.join(\n",
    "                'images_thresh',\n",
    "                receipt_list[i]['filename'] + '.' + 'jpg'), img_threshed)"
   ]
  },
  {
   "cell_type": "code",
   "execution_count": null,
   "metadata": {},
   "outputs": [],
   "source": []
  }
 ],
 "metadata": {
  "kernelspec": {
   "display_name": "Python 3",
   "language": "python",
   "name": "python3"
  },
  "language_info": {
   "codemirror_mode": {
    "name": "ipython",
    "version": 3
   },
   "file_extension": ".py",
   "mimetype": "text/x-python",
   "name": "python",
   "nbconvert_exporter": "python",
   "pygments_lexer": "ipython3",
   "version": "3.7.3"
  }
 },
 "nbformat": 4,
 "nbformat_minor": 2
}
