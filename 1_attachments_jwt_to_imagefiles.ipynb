{
 "cells": [
  {
   "cell_type": "code",
   "execution_count": null,
   "metadata": {},
   "outputs": [],
   "source": [
    "import csv\n",
    "import numpy as np\n",
    "import jwt\n",
    "import urllib.request\n",
    "import os\n",
    "from time import sleep"
   ]
  },
  {
   "cell_type": "code",
   "execution_count": null,
   "metadata": {},
   "outputs": [],
   "source": [
    "with open(\"attachments_amount_jwt.csv\") as f:\n",
    "    reader = csv.DictReader(f)\n",
    "    attachments = list(reader)"
   ]
  },
  {
   "cell_type": "code",
   "execution_count": null,
   "metadata": {},
   "outputs": [],
   "source": [
    "for i in range(len(attachments)):\n",
    "    attachments[i]['filename'] = (\n",
    "        str(jwt.decode(attachments[i]['jwt'], verify=False)['account'])\n",
    "        + '-'\n",
    "        + jwt.decode(attachments[i]['jwt'], verify=False)['filename']\n",
    "    ).strip()"
   ]
  },
  {
   "cell_type": "code",
   "execution_count": null,
   "metadata": {},
   "outputs": [],
   "source": [
    "for i in range(len(attachments)):\n",
    "    # decode jwt to create file name by concatenating jwt account and jwt filename\n",
    "    attachments[i]['filename'] = (\n",
    "        str(jwt.decode(attachments[i]['jwt'], verify=False)['account'])\n",
    "        + '-'\n",
    "        + jwt.decode(attachments[i]['jwt'], verify=False)['filename']\n",
    "    ).strip()\n",
    "    \n",
    "    # identify file type\n",
    "    with urllib.request.urlopen(\"https://api.freshbooks.com/uploads/attachments/\" + attachments[i]['jwt']) as response:\n",
    "        info = response.info()\n",
    "        attachments[i]['filetype'] = info.get_content_subtype()\n",
    "    \n",
    "    # save file with file name and file type, waiting 1 second between each urlretrieve request\n",
    "    if info.get_content_subtype() == 'jpeg':\n",
    "        urllib.request.urlretrieve(\"https://api.freshbooks.com/uploads/attachments/\" + attachments[i]['jwt'],\n",
    "                                   os.path.join('images', attachments[i]['filename'] + '.jpg'))\n",
    "        sleep(1)\n",
    "    elif  info.get_content_subtype() == 'png':\n",
    "        urllib.request.urlretrieve(\"https://api.freshbooks.com/uploads/attachments/\" + attachments[i]['jwt'],\n",
    "                                   os.path.join('images', attachments[i]['filename'] + '.png'))\n",
    "        sleep(1)\n",
    "#     else:\n",
    "#         print('Error at: ', i, ' Corresponding to jwt: ', attachments[i]['jwt'], ' With file type: ', info.get_content_subtype())\n",
    "#         break"
   ]
  },
  {
   "cell_type": "code",
   "execution_count": null,
   "metadata": {},
   "outputs": [],
   "source": [
    "csv_columns = ['amount','jwt','filename','filetype']\n",
    "with open('attachments_amount_jwt_output.csv', mode='w', newline='') as f:\n",
    "    writer = csv.DictWriter(f, fieldnames=csv_columns)\n",
    "    writer.writeheader()\n",
    "    for data in attachments:\n",
    "        writer.writerow(data)"
   ]
  },
  {
   "cell_type": "code",
   "execution_count": null,
   "metadata": {},
   "outputs": [],
   "source": [
    "attachments"
   ]
  },
  {
   "cell_type": "code",
   "execution_count": null,
   "metadata": {},
   "outputs": [],
   "source": []
  }
 ],
 "metadata": {
  "kernelspec": {
   "display_name": "Python 3",
   "language": "python",
   "name": "python3"
  },
  "language_info": {
   "codemirror_mode": {
    "name": "ipython",
    "version": 3
   },
   "file_extension": ".py",
   "mimetype": "text/x-python",
   "name": "python",
   "nbconvert_exporter": "python",
   "pygments_lexer": "ipython3",
   "version": "3.7.3"
  }
 },
 "nbformat": 4,
 "nbformat_minor": 2
}
