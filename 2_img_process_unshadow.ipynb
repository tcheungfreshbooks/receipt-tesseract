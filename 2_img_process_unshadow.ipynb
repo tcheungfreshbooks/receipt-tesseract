{
 "cells": [
  {
   "cell_type": "code",
   "execution_count": null,
   "metadata": {},
   "outputs": [],
   "source": [
    "import cv2\n",
    "import numpy as np\n",
    "import csv\n",
    "import os"
   ]
  },
  {
   "cell_type": "code",
   "execution_count": null,
   "metadata": {},
   "outputs": [],
   "source": [
    "with open(\"attachments_amount_jwt_output.csv\") as f:\n",
    "    reader = csv.DictReader(f)\n",
    "    receipt_list = list(reader)"
   ]
  },
  {
   "cell_type": "code",
   "execution_count": null,
   "metadata": {},
   "outputs": [],
   "source": [
    "for i in range(len(receipt_list)):\n",
    "    if receipt_list[i]['filetype'] in ['jpeg','png']:\n",
    "        # load the input image and grab the image dimensions\n",
    "        if receipt_list[i]['filetype'] in ['png']:\n",
    "            img = cv2.imread(os.path.join(\n",
    "                'images', \n",
    "                receipt_list[i]['filename'] + '.' + 'png'))\n",
    "        \n",
    "        if receipt_list[i]['filetype'] in ['jpeg']:\n",
    "            img = cv2.imread(os.path.join(\n",
    "                'images', \n",
    "                receipt_list[i]['filename'] + '.' + 'jpg'))\n",
    "        \n",
    "        rgb_planes = cv2.split(img)\n",
    "        \n",
    "        result_norm_planes = []\n",
    "        for plane in rgb_planes:\n",
    "            dilated_img = cv2.dilate(plane, np.ones((7,7), np.uint8))\n",
    "            bg_img = cv2.medianBlur(dilated_img, 21)\n",
    "            diff_img = 255 - cv2.absdiff(plane, bg_img)\n",
    "            norm_img = cv2.normalize(diff_img,None, alpha=0, beta=255, norm_type=cv2.NORM_MINMAX, dtype=cv2.CV_8UC1)\n",
    "            result_norm_planes.append(norm_img)\n",
    "\n",
    "        result_norm = cv2.merge(result_norm_planes)\n",
    "\n",
    "        if receipt_list[i]['filetype'] in ['png']:\n",
    "            cv2.imwrite(os.path.join(\n",
    "                'images_unshadow',\n",
    "                receipt_list[i]['filename'] + '.' + 'png'), result_norm)  \n",
    "        \n",
    "        if receipt_list[i]['filetype'] in ['jpeg']:\n",
    "            cv2.imwrite(os.path.join(\n",
    "                'images_unshadow',\n",
    "                receipt_list[i]['filename'] + '.' + 'jpg'), result_norm)"
   ]
  },
  {
   "cell_type": "code",
   "execution_count": null,
   "metadata": {},
   "outputs": [],
   "source": []
  }
 ],
 "metadata": {
  "kernelspec": {
   "display_name": "Python 3",
   "language": "python",
   "name": "python3"
  },
  "language_info": {
   "codemirror_mode": {
    "name": "ipython",
    "version": 3
   },
   "file_extension": ".py",
   "mimetype": "text/x-python",
   "name": "python",
   "nbconvert_exporter": "python",
   "pygments_lexer": "ipython3",
   "version": "3.7.3"
  }
 },
 "nbformat": 4,
 "nbformat_minor": 2
}
