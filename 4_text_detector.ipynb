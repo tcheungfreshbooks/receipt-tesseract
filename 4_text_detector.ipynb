{
 "cells": [
  {
   "cell_type": "code",
   "execution_count": null,
   "metadata": {},
   "outputs": [],
   "source": [
    "import csv\n",
    "import os\n",
    "from os import path\n",
    "import re\n",
    "import pytesseract\n",
    "from pytesseract import Output\n",
    "import cv2\n",
    "import imutils\n",
    "pytesseract.pytesseract.tesseract_cmd = r'C:\\Users\\tcheung\\AppData\\Local\\Tesseract-OCR\\tesseract.exe'\n",
    "# custom_oem_psm_config = r'--oem 3'\n",
    "custom_oem_psm_config = r'tessedit_char_whitelist=12345678ABCDEFGHIJKLMNOPQRSTUVWXYZ load_system_dawg=false load_freq_dawg=false'"
   ]
  },
  {
   "cell_type": "code",
   "execution_count": null,
   "metadata": {},
   "outputs": [],
   "source": [
    "with open(\"attachments_amount_jwt_output.csv\") as f:\n",
    "    reader = csv.DictReader(f)\n",
    "    receipt_list = list(reader)"
   ]
  },
  {
   "cell_type": "code",
   "execution_count": null,
   "metadata": {},
   "outputs": [],
   "source": [
    "def img_resize(inputImage):\n",
    "    (H, W) = inputImage.shape[:2]\n",
    "    orig_rH = H/W\n",
    "    default = 4320\n",
    "    \n",
    "    if H >= W:\n",
    "        (newW, newH) = (int(round(default * W/H)), default)\n",
    "    \n",
    "    if H < W:\n",
    "        (newW, newH) = (default, int(round(default * H/W)))\n",
    "\n",
    "    # resize the image and grab the new image dimensions\n",
    "    img = cv2.resize(inputImage, (newW, newH))\n",
    "    return img"
   ]
  },
  {
   "cell_type": "code",
   "execution_count": null,
   "metadata": {},
   "outputs": [],
   "source": [
    "def img_resize_for_show(inputImage):\n",
    "    (H, W) = inputImage.shape[:2]\n",
    "    orig_rH = H/W\n",
    "    default = 1080\n",
    "    \n",
    "    if H >= W:\n",
    "        (newW, newH) = (int(round(default * W/H)), default)\n",
    "    \n",
    "    if H < W:\n",
    "        (newW, newH) = (default, int(round(default * H/W)))\n",
    "\n",
    "    # resize the image and grab the new image dimensions\n",
    "    img = cv2.resize(inputImage, (newW, newH))\n",
    "    return img"
   ]
  },
  {
   "cell_type": "code",
   "execution_count": null,
   "metadata": {},
   "outputs": [],
   "source": [
    "price_char = set(['$', '0', '1', '2', '3', '4', '5', '6', '7', '8', '9', '.', ','])\n",
    "\n",
    "def has_number(inputString):\n",
    "    return any(char.isdigit() for char in inputString)\n",
    "\n",
    "def crop_number_from_str(text):\n",
    "    num_id = [i for i, char in enumerate(text) if char.isdigit()]\n",
    "    start, end = min(num_id), max(num_id) + 1\n",
    "    if start > 0 and  text[start - 1] == \"-\":\n",
    "        start -= 1\n",
    "    return start, end\n",
    "\n",
    "def is_price(text):\n",
    "    if any([char not in price_char for char in text]):\n",
    "        return False\n",
    "    if not has_number(text):\n",
    "        return False\n",
    "    # decimal or comma must be in price for it to be interpreted as price\n",
    "    if not any([char in ['.',','] for char in text]):\n",
    "        return False\n",
    "    if len(text.replace(',', '.').rsplit('.')[-1]) < 2:\n",
    "        return False\n",
    "#     start, end = crop_number_from_str(text)\n",
    "#     if end - start > 6:\n",
    "#         return False\n",
    "#     try:\n",
    "#         num = float(text[start: end])\n",
    "#     except ValueError:\n",
    "#         return False\n",
    "#     if num > 2000:\n",
    "#         return False\n",
    "    return True"
   ]
  },
  {
   "cell_type": "code",
   "execution_count": null,
   "metadata": {},
   "outputs": [],
   "source": [
    "img_list = list()\n",
    "\n",
    "for i in range(len(receipt_list)):\n",
    "    if receipt_list[i]['filetype'] in ['jpeg','png']:\n",
    "        # load the input image and grab the image dimensions\n",
    "        if receipt_list[i]['filetype'] in ['png']:\n",
    "            img = cv2.imread(os.path.join(\n",
    "                'images_unshadow', \n",
    "                receipt_list[i]['filename'] + '.' + receipt_list[i]['filetype']))\n",
    "        \n",
    "        if receipt_list[i]['filetype'] in ['jpeg']:\n",
    "            img = cv2.imread(os.path.join(\n",
    "                'images_unshadow', \n",
    "                receipt_list[i]['filename'] + '.' + 'jpg'))\n",
    "        \n",
    "        # extract text data from image\n",
    "        d = pytesseract.image_to_data(img, output_type=Output.DICT, config=custom_oem_psm_config)\n",
    "        \n",
    "        # find max currency/price figure in text data\n",
    "        iterations = len(d['text'])\n",
    "        temp_price_list = list()\n",
    "                \n",
    "        for k in range(iterations):\n",
    "            if is_price(str(d['text'][k])):\n",
    "                step1 = d['text'][k].replace('$','').replace(\",\", \".\")\n",
    "                step2 = step1.replace(\".\", \"\", \n",
    "                              max(step1.count(\".\") -1, 0))\n",
    "                temp_price_list.append(float(step2))\n",
    "\n",
    "        max_price = max(temp_price_list, default=0)\n",
    "        \n",
    "        # input results in list of dictionaries\n",
    "        img_dict = dict()\n",
    "        \n",
    "        img_dict['i'] = i\n",
    "        img_dict['total_pred'] = max_price\n",
    "        img_dict['amount'] = (receipt_list[i]['amount'])\n",
    "        img_dict['filename'] = (receipt_list[i]['filename'])\n",
    "        img_dict['filetype'] = (receipt_list[i]['filetype'])\n",
    "        \n",
    "        img_list.append(img_dict)\n",
    "        \n"
   ]
  },
  {
   "cell_type": "code",
   "execution_count": null,
   "metadata": {},
   "outputs": [],
   "source": [
    "img_list"
   ]
  },
  {
   "cell_type": "code",
   "execution_count": null,
   "metadata": {
    "scrolled": true
   },
   "outputs": [],
   "source": [
    "i = 13\n",
    "\n",
    "if receipt_list[i]['filetype'] in ['png']:\n",
    "    img = cv2.imread(os.path.join(\n",
    "        'images_unshadow', \n",
    "        receipt_list[i]['filename'] + '.' + receipt_list[i]['filetype']))\n",
    "\n",
    "if receipt_list[i]['filetype'] in ['jpeg']:\n",
    "    img = cv2.imread(os.path.join(\n",
    "        'images_unshadow', \n",
    "        receipt_list[i]['filename'] + '.' + 'jpg'))\n",
    "\n",
    "cv2.imshow('img', img)\n",
    "cv2.waitKey(0)"
   ]
  },
  {
   "cell_type": "code",
   "execution_count": null,
   "metadata": {},
   "outputs": [],
   "source": [
    "receipt_list[i]['filename']"
   ]
  },
  {
   "cell_type": "code",
   "execution_count": null,
   "metadata": {},
   "outputs": [],
   "source": [
    "d = pytesseract.image_to_data(img, output_type=Output.DATAFRAME)"
   ]
  },
  {
   "cell_type": "code",
   "execution_count": null,
   "metadata": {},
   "outputs": [],
   "source": [
    "n_boxes = len(d['level'])\n",
    "\n",
    "for i in range(n_boxes):\n",
    "    (x, y, w, h) = (d['left'][i], d['top'][i], d['width'][i], d['height'][i])\n",
    "    cv2.rectangle(img, (x, y), (x + w, y + h), (0, 255, 0), 2)\n",
    "\n",
    "cv2.imshow('img', img)\n",
    "cv2.waitKey(0)"
   ]
  },
  {
   "cell_type": "code",
   "execution_count": null,
   "metadata": {
    "scrolled": true
   },
   "outputs": [],
   "source": [
    "d.to_csv('img_test_result.csv')\n",
    "d"
   ]
  },
  {
   "cell_type": "code",
   "execution_count": null,
   "metadata": {},
   "outputs": [],
   "source": [
    "# find max currency/price figure in text data\n",
    "iterations = len(d['text'])\n",
    "temp_price_list = list()\n",
    "\n",
    "for k in range(iterations):\n",
    "    if is_price(str(d['text'][k])):\n",
    "        step1 = d['text'][k].replace('$','').replace(\",\", \".\")\n",
    "        step2 = step1.replace(\".\", \"\", \n",
    "                      max(step1.count(\".\") -1, 0))\n",
    "        temp_price_list.append(float(step2) )\n",
    "\n",
    "temp_price_list"
   ]
  },
  {
   "cell_type": "code",
   "execution_count": null,
   "metadata": {},
   "outputs": [],
   "source": [
    "max_price = max(temp_price_list, default=0)\n",
    "max_price"
   ]
  },
  {
   "cell_type": "code",
   "execution_count": null,
   "metadata": {},
   "outputs": [],
   "source": []
  },
  {
   "cell_type": "code",
   "execution_count": null,
   "metadata": {},
   "outputs": [],
   "source": []
  },
  {
   "cell_type": "code",
   "execution_count": null,
   "metadata": {},
   "outputs": [],
   "source": []
  },
  {
   "cell_type": "code",
   "execution_count": null,
   "metadata": {},
   "outputs": [],
   "source": [
    "i = 123\n",
    "\n",
    "if receipt_list[i]['filetype'] in ['png']:\n",
    "    img = cv2.imread(os.path.join(\n",
    "        'images_unshadow', \n",
    "        receipt_list[i]['filename'] + '.' + receipt_list[i]['filetype']))\n",
    "\n",
    "if receipt_list[i]['filetype'] in ['jpeg']:\n",
    "    img = cv2.imread(os.path.join(\n",
    "        'images_unshadow', \n",
    "        receipt_list[i]['filename'] + '.' + 'jpg'))\n",
    "\n",
    "# img_resize_for_show = img_resize_for_show(img)\n",
    "cv2.imshow('img', img)\n",
    "cv2.waitKey(0)"
   ]
  },
  {
   "cell_type": "code",
   "execution_count": null,
   "metadata": {},
   "outputs": [],
   "source": [
    "receipt_list[i]['filename']"
   ]
  },
  {
   "cell_type": "code",
   "execution_count": null,
   "metadata": {},
   "outputs": [],
   "source": [
    "d = pytesseract.image_to_data(img, output_type=Output.DATAFRAME, config=custom_oem_psm_config)"
   ]
  },
  {
   "cell_type": "code",
   "execution_count": null,
   "metadata": {
    "scrolled": true
   },
   "outputs": [],
   "source": [
    "d.to_csv('img_test_result.csv')\n",
    "d"
   ]
  },
  {
   "cell_type": "code",
   "execution_count": null,
   "metadata": {
    "scrolled": true
   },
   "outputs": [],
   "source": [
    "n_boxes = len(d['level'])\n",
    "\n",
    "for i in range(n_boxes):\n",
    "    (x, y, w, h) = (d['left'][i], d['top'][i], d['width'][i], d['height'][i])\n",
    "    cv2.rectangle(img, (x, y), (x + w, y + h), (0, 255, 0), 2)\n",
    "\n",
    "img_resize = img_resize_for_show(img)\n",
    "cv2.imshow('img_resize', img_resize)\n",
    "cv2.waitKey(0)"
   ]
  },
  {
   "cell_type": "code",
   "execution_count": null,
   "metadata": {},
   "outputs": [],
   "source": [
    "# find max currency/price figure in text data\n",
    "iterations = len(d['text'])\n",
    "temp_price_list = list()\n",
    "\n",
    "for k in range(iterations):\n",
    "    if is_price(str(d['text'][k])):\n",
    "        step1 = d['text'][k].replace('$','').replace(\",\", \".\")\n",
    "        step2 = step1.replace(\".\", \"\", \n",
    "                      max(step1.count(\".\") -1, 0))\n",
    "        temp_price_list.append(float(step2) )\n",
    "\n",
    "temp_price_list"
   ]
  },
  {
   "cell_type": "code",
   "execution_count": null,
   "metadata": {},
   "outputs": [],
   "source": [
    "max_price = max(temp_price_list, default=0)\n",
    "max_price"
   ]
  },
  {
   "cell_type": "code",
   "execution_count": null,
   "metadata": {},
   "outputs": [],
   "source": []
  },
  {
   "cell_type": "code",
   "execution_count": null,
   "metadata": {},
   "outputs": [],
   "source": []
  },
  {
   "cell_type": "code",
   "execution_count": null,
   "metadata": {},
   "outputs": [],
   "source": []
  },
  {
   "cell_type": "code",
   "execution_count": null,
   "metadata": {},
   "outputs": [],
   "source": [
    "def order_points(pts):\n",
    "    # initialzie a list of coordinates that will be ordered such that the first entry in the list is the top-left,\n",
    "    # the second entry is the top-right, the third is the bottom-right, and the fourth is the bottom-left\n",
    "    rect = np.zeros((4, 2), dtype = \"float32\")\n",
    "    \n",
    "    # the top-left point will have the smallest sum, whereas the bottom-right point will have the largest sum\n",
    "    s = pts.sum(axis = 1)\n",
    "    rect[0] = pts[np.argmin(s)]\n",
    "    rect[2] = pts[np.argmax(s)]\n",
    "    \n",
    "    # now, compute the difference between the points, the top-right point will have the smallest difference,\n",
    "    # whereas the bottom-left will have the largest difference\n",
    "    diff = np.diff(pts, axis = 1)\n",
    "    rect[1] = pts[np.argmin(diff)]\n",
    "    rect[3] = pts[np.argmax(diff)]\n",
    "\n",
    "    # return the ordered coordinates\n",
    "    return rect"
   ]
  },
  {
   "cell_type": "code",
   "execution_count": null,
   "metadata": {},
   "outputs": [],
   "source": [
    "def four_point_transform(image, pts):\n",
    "    # obtain a consistent order of the points and unpack them individually\n",
    "    rect = order_points(pts)\n",
    "    (tl, tr, br, bl) = rect\n",
    "\n",
    "    # compute the width of the new image, which will be the maximum distance between bottom-right and bottom-left\n",
    "    # x-coordiates or the top-right and top-left x-coordinates\n",
    "    widthA = np.sqrt(((br[0] - bl[0]) ** 2) + ((br[1] - bl[1]) ** 2))\n",
    "    widthB = np.sqrt(((tr[0] - tl[0]) ** 2) + ((tr[1] - tl[1]) ** 2))\n",
    "    maxWidth = max(int(widthA), int(widthB))\n",
    "\n",
    "    # compute the height of the new image, which will be the maximum distance between the top-right and bottom-right\n",
    "    # y-coordinates or the top-left and bottom-left y-coordinates\n",
    "    heightA = np.sqrt(((tr[0] - br[0]) ** 2) + ((tr[1] - br[1]) ** 2))\n",
    "    heightB = np.sqrt(((tl[0] - bl[0]) ** 2) + ((tl[1] - bl[1]) ** 2))\n",
    "    maxHeight = max(int(heightA), int(heightB))\n",
    "\n",
    "    # now that we have the dimensions of the new image, construct the set of destination points to obtain a \"birds eye view\",\n",
    "    # (i.e. top-down view) of the image, again specifying points in the top-left, top-right, bottom-right, and bottom-left order\n",
    "    dst = np.array([\n",
    "        [0, 0],\n",
    "        [maxWidth - 1, 0],\n",
    "        [maxWidth - 1, maxHeight - 1],\n",
    "        [0, maxHeight - 1]], dtype = \"float32\")\n",
    "\n",
    "    # compute the perspective transform matrix and then apply it\n",
    "    M = cv2.getPerspectiveTransform(rect, dst)\n",
    "    warped = cv2.warpPerspective(image, M, (maxWidth, maxHeight))\n",
    "\n",
    "    # return the warped image\n",
    "    return warped"
   ]
  },
  {
   "cell_type": "code",
   "execution_count": null,
   "metadata": {},
   "outputs": [],
   "source": [
    "from pyimagesearch.transform import four_point_transform"
   ]
  },
  {
   "cell_type": "code",
   "execution_count": null,
   "metadata": {},
   "outputs": [],
   "source": [
    "# convert the image to grayscale, blur it, and find edges in the image\n",
    "gray = cv2.cvtColor(img, cv2.COLOR_BGR2GRAY)\n",
    "blurred = cv2.GaussianBlur(gray, (5, 5), 0)\n",
    "edged = cv2.Canny(blurred, 25, 100)\n",
    "edged1 = cv2.Canny(blurred, 50, 100)\n",
    "edged2 = cv2.Canny(blurred, 45, 100)\n",
    "edged3 = cv2.Canny(blurred, 40, 100)\n",
    "edged4 = cv2.Canny(blurred, 35, 100)\n",
    "edged5 = cv2.Canny(blurred, 30, 100)"
   ]
  },
  {
   "cell_type": "code",
   "execution_count": null,
   "metadata": {},
   "outputs": [],
   "source": [
    "cv2.imshow('edged1',edged1)\n",
    "cv2.imshow('edged2',edged2)\n",
    "cv2.imshow('edged3',edged3)\n",
    "cv2.imshow('edged4',edged4)\n",
    "cv2.imshow('edged5',edged5)\n",
    "cv2.waitKey(0)\n",
    "cv2.destroyAllWindows()"
   ]
  },
  {
   "cell_type": "code",
   "execution_count": null,
   "metadata": {},
   "outputs": [],
   "source": [
    "# find the contours in the edged image, keeping only the largest ones, and initialize the screen contour\n",
    "cnts = cv2.findContours(edged.copy(), cv2.RETR_LIST, cv2.CHAIN_APPROX_SIMPLE)\n",
    "cnts = imutils.grab_contours(cnts)\n",
    "cnts = sorted(cnts, key = cv2.contourArea, reverse = True)[:5]\n",
    " \n",
    "# loop over the contours\n",
    "for c in cnts:\n",
    "    # approximate the contour\n",
    "    peri = cv2.arcLength(c, True)\n",
    "    approx = cv2.approxPolyDP(c, 0.02 * peri, True)\n",
    "\n",
    "    # if our approximated contour has four points, then we can assume that we have found our screen\n",
    "    if len(approx) == 4:\n",
    "        screenCnt = approx\n",
    "        break\n",
    "\n",
    "# show the contour (outline) of the piece of paper\n",
    "print(\"STEP 2: Find contours of paper\")\n",
    "cv2.drawContours(img, [screenCnt], -1, (0, 255, 0), 2)\n",
    "cv2.imshow(\"Outline\", img)\n",
    "cv2.waitKey(0)\n",
    "cv2.destroyAllWindows()"
   ]
  },
  {
   "cell_type": "code",
   "execution_count": null,
   "metadata": {},
   "outputs": [],
   "source": []
  },
  {
   "cell_type": "code",
   "execution_count": null,
   "metadata": {},
   "outputs": [],
   "source": []
  },
  {
   "cell_type": "code",
   "execution_count": null,
   "metadata": {},
   "outputs": [],
   "source": []
  },
  {
   "cell_type": "code",
   "execution_count": null,
   "metadata": {},
   "outputs": [],
   "source": []
  },
  {
   "cell_type": "code",
   "execution_count": null,
   "metadata": {},
   "outputs": [],
   "source": []
  },
  {
   "cell_type": "code",
   "execution_count": null,
   "metadata": {},
   "outputs": [],
   "source": [
    "csv_columns = ['i','total_pred','amount','filename','filetype']\n",
    "with open('results_img_list.csv', mode='w', newline='') as f:\n",
    "    writer = csv.DictWriter(f, fieldnames=csv_columns)\n",
    "    writer.writeheader()\n",
    "    for data in img_list:\n",
    "        writer.writerow(data)"
   ]
  },
  {
   "cell_type": "code",
   "execution_count": null,
   "metadata": {},
   "outputs": [],
   "source": []
  }
 ],
 "metadata": {
  "kernelspec": {
   "display_name": "Python 3",
   "language": "python",
   "name": "python3"
  },
  "language_info": {
   "codemirror_mode": {
    "name": "ipython",
    "version": 3
   },
   "file_extension": ".py",
   "mimetype": "text/x-python",
   "name": "python",
   "nbconvert_exporter": "python",
   "pygments_lexer": "ipython3",
   "version": "3.7.3"
  }
 },
 "nbformat": 4,
 "nbformat_minor": 2
}
